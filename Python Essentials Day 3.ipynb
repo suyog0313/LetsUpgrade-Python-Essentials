{
 "cells": [
  {
   "cell_type": "code",
   "execution_count": 4,
   "metadata": {},
   "outputs": [
    {
     "name": "stdout",
     "output_type": "stream",
     "text": [
      "Enter the altitude in feet :7000\n",
      "Go around and try later\n"
     ]
    }
   ],
   "source": [
    "#You all are Pilots, you want to land a plane safely, so altitude required for landing a plane is\n",
    "#1000ft, it it is less than tell pilot to land the plane, or it is more than that but less than 5000ft ask\n",
    "#the pilot to “come down to 1000ft”, else if it more than 5000ft ask the pilot to “go around and try\n",
    "#later\n",
    "\n",
    "\n",
    "altitude=int(input(\"Enter the altitude in feet :\"))\n",
    "#altitude=3000\n",
    "if altitude<1000:\n",
    "    print(\"Plese Land the Plane\")\n",
    "elif altitude<5000:\n",
    "    print(\"Come down to 1000 feet\")\n",
    "else:\n",
    "    print(\"Go around and try later\")"
   ]
  },
  {
   "cell_type": "code",
   "execution_count": 5,
   "metadata": {},
   "outputs": [
    {
     "name": "stdout",
     "output_type": "stream",
     "text": [
      "Enter the altitude in feet :1500\n",
      "Come down to 1000 feet\n"
     ]
    }
   ],
   "source": [
    "altitude=int(input(\"Enter the altitude in feet :\"))\n",
    "#altitude=3000\n",
    "if altitude<1000:\n",
    "    print(\"Plese Land the Plane\")\n",
    "elif altitude<5000:\n",
    "    print(\"Come down to 1000 feet\")\n",
    "else:\n",
    "    print(\"Go around and try later\")"
   ]
  },
  {
   "cell_type": "code",
   "execution_count": 6,
   "metadata": {},
   "outputs": [
    {
     "name": "stdout",
     "output_type": "stream",
     "text": [
      "Enter the altitude in feet :700\n",
      "Plese Land the Plane\n"
     ]
    }
   ],
   "source": [
    "altitude=int(input(\"Enter the altitude in feet :\"))\n",
    "#altitude=3000\n",
    "if altitude<=1000:\n",
    "    print(\"Plese Land the Plane\")\n",
    "elif altitude<5000:\n",
    "    print(\"Come down to 1000 feet\")\n",
    "else:\n",
    "    print(\"Go around and try later\")"
   ]
  },
  {
   "cell_type": "code",
   "execution_count": 8,
   "metadata": {},
   "outputs": [
    {
     "name": "stdout",
     "output_type": "stream",
     "text": [
      "Enter the altitude in feet :1000\n",
      "Plese Land the Plane\n"
     ]
    }
   ],
   "source": [
    "altitude=int(input(\"Enter the altitude in feet :\"))\n",
    "#altitude=3000\n",
    "if altitude<=1000:\n",
    "    print(\"Plese Land the Plane\")\n",
    "elif altitude<5000:\n",
    "    print(\"Come down to 1000 feet\")\n",
    "else:\n",
    "    print(\"Go around and try later\")"
   ]
  },
  {
   "cell_type": "code",
   "execution_count": 9,
   "metadata": {},
   "outputs": [
    {
     "name": "stdout",
     "output_type": "stream",
     "text": [
      "Prime numbers between 1 and 200 are:\n",
      "2\n",
      "3\n",
      "5\n",
      "7\n",
      "11\n",
      "13\n",
      "17\n",
      "19\n",
      "23\n",
      "29\n",
      "31\n",
      "37\n",
      "41\n",
      "43\n",
      "47\n",
      "53\n",
      "59\n",
      "61\n",
      "67\n",
      "71\n",
      "73\n",
      "79\n",
      "83\n",
      "89\n",
      "97\n",
      "101\n",
      "103\n",
      "107\n",
      "109\n",
      "113\n",
      "127\n",
      "131\n",
      "137\n",
      "139\n",
      "149\n",
      "151\n",
      "157\n",
      "163\n",
      "167\n",
      "173\n",
      "179\n",
      "181\n",
      "191\n",
      "193\n",
      "197\n",
      "199\n"
     ]
    }
   ],
   "source": [
    "#Using for loop please print all the prime numbers between 1- 200 using FOR LOOP AND RANGE\n",
    "function.\n",
    "\n",
    "start =1\n",
    "end = 200\n",
    "\n",
    "print(\"Prime numbers between\", start, \"and\", end, \"are:\")\n",
    "\n",
    "for num in range(start, end + 1):\n",
    "   # all prime numbers are greater than 1\n",
    "   if num > 1:\n",
    "       for i in range(2, num):\n",
    "           if (num % i) == 0:\n",
    "               break\n",
    "       else:\n",
    "           print(num)"
   ]
  },
  {
   "cell_type": "code",
   "execution_count": null,
   "metadata": {},
   "outputs": [],
   "source": []
  }
 ],
 "metadata": {
  "kernelspec": {
   "display_name": "Python 3",
   "language": "python",
   "name": "python3"
  },
  "language_info": {
   "codemirror_mode": {
    "name": "ipython",
    "version": 3
   },
   "file_extension": ".py",
   "mimetype": "text/x-python",
   "name": "python",
   "nbconvert_exporter": "python",
   "pygments_lexer": "ipython3",
   "version": "3.8.3"
  }
 },
 "nbformat": 4,
 "nbformat_minor": 4
}
